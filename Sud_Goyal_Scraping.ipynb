{
 "cells": [
  {
   "cell_type": "code",
   "execution_count": 9,
   "id": "2a2350a2",
   "metadata": {},
   "outputs": [],
   "source": [
    "from selenium import webdriver\n",
    "import time\n",
    "import requests\n",
    "from bs4 import BeautifulSoup\n",
    "import re\n",
    "import pandas as pd\n",
    "\n",
    "driver = webdriver.Chrome(executable_path='chromedriver')\n",
    "driver.implicitly_wait(10)\n",
    "driver.get('https://www.flipkart.com')\n",
    "\n",
    "driver.find_element_by_xpath('//div[@class=\"_2QfC02\"]/button').click() #TO close login popup."
   ]
  },
  {
   "cell_type": "code",
   "execution_count": 2,
   "id": "a8aee585",
   "metadata": {},
   "outputs": [],
   "source": [
    "c = driver.find_element_by_tag_name('input')\n",
    "c.click()\n",
    "c.send_keys('Iphone')\n",
    "driver.find_element_by_tag_name('button').click()"
   ]
  },
  {
   "cell_type": "code",
   "execution_count": 3,
   "id": "c2ce9a50",
   "metadata": {},
   "outputs": [],
   "source": [
    "page1_links = driver.find_elements_by_class_name('_1fQZEK')\n",
    "page1_links = [i.get_attribute('href') for i in page1_links]\n",
    "driver.find_element_by_link_text('NEXT').click()\n",
    "time.sleep(5)\n",
    "page2_links = driver.find_elements_by_class_name('_1fQZEK')\n",
    "page2_links = [i.get_attribute('href') for i in page2_links]\n",
    "page2_links\n",
    "links = page1_links+page2_links\n",
    "links = links[:40]\n",
    "driver.quit()"
   ]
  },
  {
   "cell_type": "code",
   "execution_count": 13,
   "id": "b4584315",
   "metadata": {},
   "outputs": [],
   "source": [
    "def cleanser(no):\n",
    "    return re.sub(r'[^0-9]','',no)\n",
    "\n",
    "\n",
    "\n",
    "def dataset(links):\n",
    "    d_set = []\n",
    "    for l in links:\n",
    "        h = {'user-agent':'Sindhu'}\n",
    "        r = requests.get(l,headers=h)\n",
    "        time.sleep(10)\n",
    "        html = r.text\n",
    "        data = BeautifulSoup(html,'html.parser')\n",
    "        Name = data.find(class_='B_NuCI').string\n",
    "        Price = int(cleanser(data.find(class_ = '_25b18c').div.string.split()[0]))\n",
    "        Prod_Rating = float(data.find(class_='_3LWZlK').get_text())\n",
    "        c = data.find(id='sellerName')\n",
    "        No_of_Prod_Rating = int(cleanser(data.find(class_ = '_2_R_DZ').span.contents[0].string.split()[0]))\n",
    "        No_of_Prod_Reviews = int(cleanser(data.find(class_ = '_2_R_DZ').span.contents[2].string.split()[0]))\n",
    "        Seller_Rating = float(c.div.text)\n",
    "        Seller_Name = c.span.span.text\n",
    "        d_set.append([Name,Price,Prod_Rating,No_of_Prod_Rating,No_of_Prod_Reviews,Seller_Name,Seller_Rating])\n",
    "    return d_set"
   ]
  },
  {
   "cell_type": "code",
   "execution_count": 12,
   "id": "de578021",
   "metadata": {
    "scrolled": true
   },
   "outputs": [
    {
     "data": {
      "text/html": [
       "<div>\n",
       "<style scoped>\n",
       "    .dataframe tbody tr th:only-of-type {\n",
       "        vertical-align: middle;\n",
       "    }\n",
       "\n",
       "    .dataframe tbody tr th {\n",
       "        vertical-align: top;\n",
       "    }\n",
       "\n",
       "    .dataframe thead th {\n",
       "        text-align: right;\n",
       "    }\n",
       "</style>\n",
       "<table border=\"1\" class=\"dataframe\">\n",
       "  <thead>\n",
       "    <tr style=\"text-align: right;\">\n",
       "      <th></th>\n",
       "      <th>Name</th>\n",
       "      <th>Price</th>\n",
       "      <th>Prod_Rating</th>\n",
       "      <th>No_of_Prod_Rating</th>\n",
       "      <th>No_of_Prod_Reviews</th>\n",
       "      <th>Seller_Name</th>\n",
       "      <th>Seller_Rating</th>\n",
       "    </tr>\n",
       "  </thead>\n",
       "  <tbody>\n",
       "    <tr>\n",
       "      <th>0</th>\n",
       "      <td>APPLE iPhone SE (White, 64 GB)</td>\n",
       "      <td>39900</td>\n",
       "      <td>4.5</td>\n",
       "      <td>117892</td>\n",
       "      <td>9894</td>\n",
       "      <td>SuperComNet</td>\n",
       "      <td>4.6</td>\n",
       "    </tr>\n",
       "    <tr>\n",
       "      <th>1</th>\n",
       "      <td>APPLE iPhone SE (Black, 64 GB)</td>\n",
       "      <td>39900</td>\n",
       "      <td>4.5</td>\n",
       "      <td>117892</td>\n",
       "      <td>9894</td>\n",
       "      <td>SuperComNet</td>\n",
       "      <td>4.6</td>\n",
       "    </tr>\n",
       "    <tr>\n",
       "      <th>2</th>\n",
       "      <td>APPLE iPhone 12 (Blue, 128 GB)</td>\n",
       "      <td>70900</td>\n",
       "      <td>4.6</td>\n",
       "      <td>13045</td>\n",
       "      <td>1146</td>\n",
       "      <td>SuperComNet</td>\n",
       "      <td>4.6</td>\n",
       "    </tr>\n",
       "    <tr>\n",
       "      <th>3</th>\n",
       "      <td>APPLE iPhone 12 Mini (White, 64 GB)</td>\n",
       "      <td>59900</td>\n",
       "      <td>4.5</td>\n",
       "      <td>4025</td>\n",
       "      <td>338</td>\n",
       "      <td>SuperComNet</td>\n",
       "      <td>4.6</td>\n",
       "    </tr>\n",
       "    <tr>\n",
       "      <th>4</th>\n",
       "      <td>APPLE iPhone 12 Mini (Green, 64 GB)</td>\n",
       "      <td>59900</td>\n",
       "      <td>4.5</td>\n",
       "      <td>4025</td>\n",
       "      <td>338</td>\n",
       "      <td>SuperComNet</td>\n",
       "      <td>4.6</td>\n",
       "    </tr>\n",
       "  </tbody>\n",
       "</table>\n",
       "</div>"
      ],
      "text/plain": [
       "                                  Name  Price  Prod_Rating  No_of_Prod_Rating  \\\n",
       "0       APPLE iPhone SE (White, 64 GB)  39900          4.5             117892   \n",
       "1       APPLE iPhone SE (Black, 64 GB)  39900          4.5             117892   \n",
       "2       APPLE iPhone 12 (Blue, 128 GB)  70900          4.6              13045   \n",
       "3  APPLE iPhone 12 Mini (White, 64 GB)  59900          4.5               4025   \n",
       "4  APPLE iPhone 12 Mini (Green, 64 GB)  59900          4.5               4025   \n",
       "\n",
       "   No_of_Prod_Reviews  Seller_Name  Seller_Rating  \n",
       "0                9894  SuperComNet            4.6  \n",
       "1                9894  SuperComNet            4.6  \n",
       "2                1146  SuperComNet            4.6  \n",
       "3                 338  SuperComNet            4.6  \n",
       "4                 338  SuperComNet            4.6  "
      ]
     },
     "execution_count": 12,
     "metadata": {},
     "output_type": "execute_result"
    }
   ],
   "source": [
    "d_set = dataset(links)\n",
    "df = pd.DataFrame(d_set,columns=['Name','Price','Prod_Rating','No_of_Prod_Rating','No_of_Prod_Reviews','Seller_Name','Seller_Rating'])\n",
    "df.head()"
   ]
  },
  {
   "cell_type": "code",
   "execution_count": 14,
   "id": "4c43a806",
   "metadata": {},
   "outputs": [
    {
     "data": {
      "text/plain": [
       "63127.475"
      ]
     },
     "execution_count": 14,
     "metadata": {},
     "output_type": "execute_result"
    }
   ],
   "source": [
    "df.Price.mean()"
   ]
  }
 ],
 "metadata": {
  "kernelspec": {
   "display_name": "Python 3 (ipykernel)",
   "language": "python",
   "name": "python3"
  },
  "language_info": {
   "codemirror_mode": {
    "name": "ipython",
    "version": 3
   },
   "file_extension": ".py",
   "mimetype": "text/x-python",
   "name": "python",
   "nbconvert_exporter": "python",
   "pygments_lexer": "ipython3",
   "version": "3.7.10"
  }
 },
 "nbformat": 4,
 "nbformat_minor": 5
}
